{
  "nbformat": 4,
  "nbformat_minor": 0,
  "metadata": {
    "colab": {
      "provenance": []
    },
    "kernelspec": {
      "name": "python3",
      "display_name": "Python 3"
    },
    "language_info": {
      "name": "python"
    }
  },
  "cells": [
    {
      "cell_type": "code",
      "execution_count": 8,
      "metadata": {
        "colab": {
          "base_uri": "https://localhost:8080/"
        },
        "id": "X6BAhHC7WxIM",
        "outputId": "9c25c6aa-f185-4b8c-c149-bc8025b36613"
      },
      "outputs": [
        {
          "output_type": "stream",
          "name": "stdout",
          "text": [
            "Overwriting A1.c\n"
          ]
        }
      ],
      "source": [
        "%%writefile A1.c\n",
        "//Lab1.1 (27/07/2023)\n",
        "\n",
        "#include <stdio.h>\n",
        "#include <stdlib.h>\n",
        "\n",
        "int main()\n",
        "{\n",
        "    int n_bg_2579,l_bg_2579,s_bg_2579;\n",
        "    printf(\"Enter the no of elements : \");\n",
        "    scanf(\"%d\", &n_bg_2579);\n",
        "    int arr_bg_2579[n_bg_2579];\n",
        "    for(int i=0 ; i<n_bg_2579 ; i++){\n",
        "        arr_bg_2579[i] = (rand() % 100) + 1;\n",
        "    }\n",
        "    printf(\"The random array elements are as follows: \\n\");\n",
        "    for(int i=0 ; i<n_bg_2579 ; i++){\n",
        "        printf(\"\\t%d\", arr_bg_2579[i]);\n",
        "    }\n",
        "    printf(\"\\nAmong the random elements: \\n\");\n",
        "    s_bg_2579 = arr_bg_2579[0];\n",
        "    l_bg_2579 = arr_bg_2579[0];\n",
        "    for(int i = 1; i < n_bg_2579; i++)\n",
        "    {\n",
        "        if (arr_bg_2579[i] < s_bg_2579){\n",
        "            s_bg_2579 = arr_bg_2579[i];\n",
        "        }\n",
        "        if (arr_bg_2579[i] > l_bg_2579){\n",
        "            l_bg_2579 = arr_bg_2579[i];\n",
        "        }\n",
        "    }\n",
        "    printf(\"Maximum : %d\\n\", l_bg_2579);\n",
        "    printf(\"Minimum : %d\\n\", s_bg_2579);\n",
        "\n",
        "}"
      ]
    },
    {
      "cell_type": "code",
      "source": [
        "%%script bash\n",
        "gcc A1.c"
      ],
      "metadata": {
        "id": "5nBH6t38W2kb"
      },
      "execution_count": 9,
      "outputs": []
    },
    {
      "cell_type": "code",
      "source": [
        "!./a.out"
      ],
      "metadata": {
        "colab": {
          "base_uri": "https://localhost:8080/"
        },
        "id": "qf-3jWQBW4_6",
        "outputId": "415f369e-ddf2-4053-b7d4-11cccb038351"
      },
      "execution_count": 10,
      "outputs": [
        {
          "output_type": "stream",
          "name": "stdout",
          "text": [
            "Enter the no of elements : 8\n",
            "The random array elements are as follows: \n",
            "\t84\t87\t78\t16\t94\t36\t87\t93\n",
            "Among the random elements: \n",
            "Maximum : 94\n",
            "Minimum : 16\n"
          ]
        }
      ]
    },
    {
      "cell_type": "code",
      "source": [
        "%%writefile A2.c\n",
        "//Lab1.2 (27/07/2023)\n",
        "\n",
        "#include <stdio.h>\n",
        "#include <stdlib.h>\n",
        "\n",
        "int main()\n",
        "{\n",
        "    int n_bg_2579,l_bg_2579,s_bg_2579;\n",
        "    printf(\"Enter the value of n greater than 10 for must having duplicate elements : \");\n",
        "    scanf(\"%d\", &n_bg_2579);\n",
        "    int arr_bg_2579[n_bg_2579], visited_bg_2579[n_bg_2579];\n",
        "    for(int i = 0 ; i < n_bg_2579 ; i++)\n",
        "    {\n",
        "        arr_bg_2579[i] = (rand() % 100) + 1;\n",
        "        visited_bg_2579[i] = 0;\n",
        "    }\n",
        "    printf(\"The random array elements are as follows: \\n\");\n",
        "    for(int i=0 ; i<n_bg_2579 ; i++){\n",
        "        printf(\"\\t%d\", arr_bg_2579[i]);\n",
        "    }\n",
        "    int no_dup_bg_2579, no_bg_2579, max_dup_bg_2579 = 0, max_no_bg_2579;\n",
        "    for(int i = 0; i < n_bg_2579-1; i++)\n",
        "    {\n",
        "        no_bg_2579 = 0;\n",
        "        for(int j = i+1; j<n_bg_2579; j++)\n",
        "        {\n",
        "            if (arr_bg_2579[i]==arr_bg_2579[j] && visited_bg_2579[j]==0)\n",
        "            {\n",
        "                no_dup_bg_2579++;\n",
        "                no_bg_2579++;\n",
        "                visited_bg_2579[j] = 1;\n",
        "            }\n",
        "        }\n",
        "        if (max_dup_bg_2579<no_bg_2579)\n",
        "        {\n",
        "            max_dup_bg_2579 = no_bg_2579;\n",
        "            max_no_bg_2579 = arr_bg_2579[i];\n",
        "        }\n",
        "    }\n",
        "    printf(\"\\n\\nThe total number of duplicate elements : %d\\n\", no_dup_bg_2579);\n",
        "    printf(\"The most frequent element is : %d\\n\", max_no_bg_2579);\n",
        "}"
      ],
      "metadata": {
        "colab": {
          "base_uri": "https://localhost:8080/"
        },
        "id": "7k_8Qd1ccpoq",
        "outputId": "355aa2e3-c590-4959-cfc8-55f31a5b0729"
      },
      "execution_count": 14,
      "outputs": [
        {
          "output_type": "stream",
          "name": "stdout",
          "text": [
            "Overwriting A2.c\n"
          ]
        }
      ]
    },
    {
      "cell_type": "code",
      "source": [
        "%%script bash\n",
        "gcc A2.c"
      ],
      "metadata": {
        "id": "hLzCQTubkiPT"
      },
      "execution_count": 15,
      "outputs": []
    },
    {
      "cell_type": "code",
      "source": [
        "!./a.out"
      ],
      "metadata": {
        "colab": {
          "base_uri": "https://localhost:8080/"
        },
        "id": "p4LJT1bYklnb",
        "outputId": "888e69fe-5a73-4f3f-c162-5683417d7064"
      },
      "execution_count": 16,
      "outputs": [
        {
          "output_type": "stream",
          "name": "stdout",
          "text": [
            "Enter the value of n greater than 10 for must having duplicate elements : 12\n",
            "The random array elements are as follows: \n",
            "\t84\t87\t78\t16\t94\t36\t87\t93\t50\t22\t63\t28\n",
            "\n",
            "The total number of duplicate elements : 1\n",
            "The most frequent element is : 87\n"
          ]
        }
      ]
    },
    {
      "cell_type": "code",
      "source": [
        "%%writefile A3.c\n",
        "//Lab1.3 (27/07/2023)\n",
        "#include<stdio.h>\n",
        "\n",
        "void swap(int *a, int *b)\n",
        "{\n",
        "\tint temp = *a;\n",
        "\t*a = *b;\n",
        "\t*b = temp;\n",
        "}\n",
        "\n",
        "void segregateEvenOdd(int arr[], int size)\n",
        "{\n",
        "\tint left = 0, right = size-1;\n",
        "\twhile (left < right)\n",
        "\t{\n",
        "\t\twhile (arr[left]%2 == 0 && left < right)\n",
        "\t\t\tleft++;\n",
        "\t\twhile (arr[right]%2 == 1 && left < right)\n",
        "\t\t\tright--;\n",
        "\n",
        "\t\tif (left < right)\n",
        "\t\t{\n",
        "\t\t\tswap(&arr[left], &arr[right]);\n",
        "\t\t\tleft++;\n",
        "\t\t\tright--;\n",
        "\t\t}\n",
        "\t}\n",
        "}\n",
        "\n",
        "int main()\n",
        "{\n",
        "  int n_bg_2579;\n",
        "  printf(\"Enter the size of array:\");\n",
        "  scanf(\"%d\", &n_bg_2579);\n",
        "\tint arr_bg_2579[n_bg_2579];\n",
        "\n",
        "  for(int i = 0 ; i < n_bg_2579 ; i++)\n",
        "    scanf(\"%d\", &arr_bg_2579[i]);\n",
        "\n",
        "\tsegregateEvenOdd(arr_bg_2579, n_bg_2579);\n",
        "\n",
        "\tfor (int i = 0; i < n_bg_2579; i++)\n",
        "\t\tprintf(\"%d\\t\", arr_bg_2579[i]);\n",
        "\n",
        "\treturn 0;\n",
        "}"
      ],
      "metadata": {
        "colab": {
          "base_uri": "https://localhost:8080/"
        },
        "id": "KpU2K9TbkzEv",
        "outputId": "d7a0586d-f7c7-4207-84a1-f23c15ebff70"
      },
      "execution_count": 25,
      "outputs": [
        {
          "output_type": "stream",
          "name": "stdout",
          "text": [
            "Overwriting A3.c\n"
          ]
        }
      ]
    },
    {
      "cell_type": "code",
      "source": [
        "%%script bash\n",
        "gcc A3.c"
      ],
      "metadata": {
        "id": "edjTME3slUKS"
      },
      "execution_count": 26,
      "outputs": []
    },
    {
      "cell_type": "code",
      "source": [
        "!./a.out"
      ],
      "metadata": {
        "colab": {
          "base_uri": "https://localhost:8080/"
        },
        "id": "6pJQ8Rh-lVHs",
        "outputId": "a3b20929-da8e-4591-fe3d-83543cb9be0b"
      },
      "execution_count": 27,
      "outputs": [
        {
          "output_type": "stream",
          "name": "stdout",
          "text": [
            "Enter the size of array:8\n",
            "86\n",
            "54\n",
            "31\n",
            "93\n",
            "57\n",
            "78\n",
            "40\n",
            "59\n",
            "86\t54\t40\t78\t57\t93\t31\t59\t"
          ]
        }
      ]
    },
    {
      "cell_type": "code",
      "source": [
        "%%writefile A4.c\n",
        "//Lab1.4 (27/07/2023)\n",
        "#include <stdio.h>\n",
        "void swap(int *a, int *b)\n",
        "{\n",
        "\tint temp = *a;\n",
        "\t*a = *b;\n",
        "\t*b = temp;\n",
        "}\n",
        "int main()\n",
        "{\n",
        "  int a_bg_2579, b_bg_2579, c_bg_2579;\n",
        "  printf(\"Enter three numbers:\\n\");\n",
        "  scanf(\"%d %d %d\", &a_bg_2579, &b_bg_2579, &c_bg_2579);\n",
        "  printf(\"Before swapping\\n%d\\t%d\\t%d\\n\", a_bg_2579, b_bg_2579, c_bg_2579);\n",
        "\tswap(&a_bg_2579,&b_bg_2579);\n",
        "\tswap(&a_bg_2579,&c_bg_2579);\n",
        "\tprintf(\"After swapping\\n%d\\t%d\\t%d\\n\", a_bg_2579, b_bg_2579, c_bg_2579);\n",
        "}"
      ],
      "metadata": {
        "colab": {
          "base_uri": "https://localhost:8080/"
        },
        "id": "XSbPDLGHnDa7",
        "outputId": "a5fbfef8-1aec-43ea-c71a-cf0e4bf87ee1"
      },
      "execution_count": 28,
      "outputs": [
        {
          "output_type": "stream",
          "name": "stdout",
          "text": [
            "Writing A4.c\n"
          ]
        }
      ]
    },
    {
      "cell_type": "code",
      "source": [
        "%%script bash\n",
        "gcc A4.c"
      ],
      "metadata": {
        "id": "4XEQ3gyunINZ"
      },
      "execution_count": 29,
      "outputs": []
    },
    {
      "cell_type": "code",
      "source": [
        "!./a.out"
      ],
      "metadata": {
        "colab": {
          "base_uri": "https://localhost:8080/"
        },
        "id": "nMOIU5NTnH86",
        "outputId": "365fecea-4199-49c0-8d22-dc5f56fcc411"
      },
      "execution_count": 30,
      "outputs": [
        {
          "output_type": "stream",
          "name": "stdout",
          "text": [
            "Enter three numbers:\n",
            "21\n",
            "05\n",
            "25\n",
            "Before swapping\n",
            "21\t5\t25\n",
            "After swapping\n",
            "25\t21\t5\n"
          ]
        }
      ]
    },
    {
      "cell_type": "code",
      "source": [
        "%%writefile A5.c\n",
        "//Lab1.5 (27/07/2023)\n",
        "#include <stdio.h>\n",
        "int main()\n",
        "{\n",
        "\tint arr_bg_2579[3][3];\n",
        "\tint nonzero_bg_2579 = 0;\n",
        "\tint sumabove_bg_2579=0;\n",
        "\tint diagprod_bg_2579=1;\n",
        "\tprintf(\"Enter the elements for 3*3 square matrix respectively\\n\");\n",
        "\tfor (int i=0;i<3;i++)\n",
        "\t{\n",
        "\t\tfor (int j=0;j<3;j++)\n",
        "\t\t\tscanf(\"%d\",&arr_bg_2579[i][j]);\n",
        "\t}\n",
        "\tfor (int i=0;i<3;i++)\n",
        "\t{\n",
        "\t\tfor (int j=0;j<3;j++)\n",
        "\t\t{\n",
        "\t\t\tprintf(\"%d\\t\",arr_bg_2579[i][j]);\n",
        "\t\t\tif (arr_bg_2579[i][j]!=0)\n",
        "\t\t\t\tnonzero_bg_2579++\n",
        "\t\t\tif (j>i)\n",
        "\t\t\t\tsumabove_bg_2579+=arr_bg_2579[i][j];\n",
        "\t\t\tif (i==j)\n",
        "\t\t\t\tdiagprod_bg_2579*=arr_bg_2579[i][j];\n",
        "\t\t}\n",
        "\t\tprintf(\"\\n\");\n",
        "\t}\n",
        "\tprintf(\"The number of non-zero elemets is %d\\n\",nonzero_bg_2579);\n",
        "\tprintf(\"The sum of elements above leading diagonal is %d\\n\",sumabove_bg_2579);\n",
        "\tprintf(\"The elements above minor diagonal is as follows -\\n\");\n",
        "\tfor (int i=0;i<3;i++)\n",
        "\t{\n",
        "\t\tfor (int j=0;j<3;j++)\n",
        "\t\t{\n",
        "\t\t\tif (i+j<2)\n",
        "\t\t\t\tprintf(\"%d\\t\",arr_bg_2579[i][j]);\n",
        "\t\t}\n",
        "\t\tprintf(\"\\n\");\n",
        "\t}\n",
        "\tprintf(\"The product of diagonal elements is %d\\n\",diagprod_bg_2579);\n",
        "}"
      ],
      "metadata": {
        "colab": {
          "base_uri": "https://localhost:8080/"
        },
        "id": "ReiTn7SyoNqp",
        "outputId": "39b7efd3-7613-47f8-c963-993e0b5e7504"
      },
      "execution_count": 32,
      "outputs": [
        {
          "output_type": "stream",
          "name": "stdout",
          "text": [
            "Overwriting A5.c\n"
          ]
        }
      ]
    },
    {
      "cell_type": "code",
      "source": [
        "%%script bash\n",
        "gcc A5.c"
      ],
      "metadata": {
        "id": "5XvBDEk6obv4"
      },
      "execution_count": 33,
      "outputs": []
    },
    {
      "cell_type": "code",
      "source": [
        "!./a.out"
      ],
      "metadata": {
        "colab": {
          "base_uri": "https://localhost:8080/"
        },
        "id": "zQarHhlHog0A",
        "outputId": "67f87014-7a87-44b0-9308-602524b0b34f"
      },
      "execution_count": 34,
      "outputs": [
        {
          "output_type": "stream",
          "name": "stdout",
          "text": [
            "Enter the elements for 3*3 square matrix respectively\n",
            "12\n",
            "3\n",
            "0\n",
            "0\n",
            "4\n",
            "0\n",
            "0\n",
            "0\n",
            "5\n",
            "12\t3\t0\t\n",
            "0\t4\t0\t\n",
            "0\t0\t5\t\n",
            "The number of non-zero elemets is 4\n",
            "The sum of elements above leading diagonal is 3\n",
            "The elements above minor diagonal is as follows -\n",
            "12\t3\t\n",
            "0\t\n",
            "\n",
            "The product of diagonal elements is 240\n"
          ]
        }
      ]
    }
  ]
}