{
  "nbformat": 4,
  "nbformat_minor": 0,
  "metadata": {
    "colab": {
      "provenance": []
    },
    "kernelspec": {
      "name": "python3",
      "display_name": "Python 3"
    },
    "language_info": {
      "name": "python"
    }
  },
  "cells": [
    {
      "cell_type": "markdown",
      "source": [
        "#**Day-Wise Problems**"
      ],
      "metadata": {
        "id": "xKRwUrD1UGSF"
      }
    },
    {
      "cell_type": "markdown",
      "source": [
        "#1.1"
      ],
      "metadata": {
        "id": "f8vvqg1yVYi4"
      }
    },
    {
      "cell_type": "code",
      "execution_count": null,
      "metadata": {
        "colab": {
          "base_uri": "https://localhost:8080/"
        },
        "id": "X6BAhHC7WxIM",
        "outputId": "50123113-080a-4f42-b42a-4bf270e041cc"
      },
      "outputs": [
        {
          "output_type": "stream",
          "name": "stdout",
          "text": [
            "Overwriting A1.c\n"
          ]
        }
      ],
      "source": [
        "%%writefile A1.c\n",
        "//Lab1.1 (27/07/2023)\n",
        "\n",
        "#include <stdio.h>\n",
        "#include <stdlib.h>\n",
        "\n",
        "int main()\n",
        "{\n",
        "    int n_bg_2579, l_bg_2579, s_bg_2579;\n",
        "    printf(\"Enter the no of elements : \");\n",
        "    scanf(\"%d\", &n_bg_2579);\n",
        "    int arr_bg_2579[n_bg_2579];\n",
        "    for(int i_bg_2579=0 ; i_bg_2579<n_bg_2579 ; i_bg_2579++){\n",
        "        arr_bg_2579[i_bg_2579] = (rand() % 100) + 1;\n",
        "    }\n",
        "    printf(\"The random array elements are as follows: \\n\");\n",
        "    for(int i_bg_2579=0 ; i_bg_2579<n_bg_2579 ; i_bg_2579++){\n",
        "        printf(\"\\t%d\", arr_bg_2579[i_bg_2579]);\n",
        "    }\n",
        "    printf(\"\\nAmong the random elements: \\n\");\n",
        "    s_bg_2579 = arr_bg_2579[0];\n",
        "    l_bg_2579 = arr_bg_2579[0];\n",
        "    for(int i_bg_2579 = 1; i_bg_2579 < n_bg_2579; i_bg_2579++)\n",
        "    {\n",
        "        if (arr_bg_2579[i_bg_2579] < s_bg_2579)\n",
        "            s_bg_2579 = arr_bg_2579[i_bg_2579];\n",
        "        if (arr_bg_2579[i_bg_2579] > l_bg_2579)\n",
        "            l_bg_2579 = arr_bg_2579[i_bg_2579];\n",
        "    }\n",
        "    printf(\"Maximum : %d\\n\", l_bg_2579);\n",
        "    printf(\"Minimum : %d\\n\", s_bg_2579);\n",
        "\n",
        "}"
      ]
    },
    {
      "cell_type": "code",
      "source": [
        "%%script bash\n",
        "gcc A1.c"
      ],
      "metadata": {
        "id": "5nBH6t38W2kb"
      },
      "execution_count": null,
      "outputs": []
    },
    {
      "cell_type": "code",
      "source": [
        "!./a.out"
      ],
      "metadata": {
        "colab": {
          "base_uri": "https://localhost:8080/"
        },
        "id": "qf-3jWQBW4_6",
        "outputId": "be4642c6-8aaa-41d1-ef05-dd20825c3f0c"
      },
      "execution_count": null,
      "outputs": [
        {
          "output_type": "stream",
          "name": "stdout",
          "text": [
            "Enter the no of elements : 8\n",
            "The random array elements are as follows: \n",
            "\t84\t87\t78\t16\t94\t36\t87\t93\n",
            "Among the random elements: \n",
            "Maximum : 94\n",
            "Minimum : 16\n"
          ]
        }
      ]
    },
    {
      "cell_type": "markdown",
      "source": [
        "#1.2"
      ],
      "metadata": {
        "id": "Tz8Cq2WyVbZl"
      }
    },
    {
      "cell_type": "code",
      "source": [
        "%%writefile A2.c\n",
        "//Lab1.2 (27/07/2023)\n",
        "\n",
        "#include <stdio.h>\n",
        "#include <stdlib.h>\n",
        "\n",
        "int main()\n",
        "{\n",
        "    int n_bg_2579,l_bg_2579,s_bg_2579;\n",
        "    printf(\"Enter the value of n greater than 10 for must having duplicate elements : \");\n",
        "    scanf(\"%d\", &n_bg_2579);\n",
        "    int arr_bg_2579[n_bg_2579], visited_bg_2579[n_bg_2579];\n",
        "    for(int i_bg_2579 = 0 ; i_bg_2579 < n_bg_2579 ; i_bg_2579++)\n",
        "    {\n",
        "        arr_bg_2579[i_bg_2579] = (rand() % 100) + 1;\n",
        "        visited_bg_2579[i_bg_2579] = 0;\n",
        "    }\n",
        "    printf(\"The random array elements are as follows: \\n\");\n",
        "    for(int i_bg_2579 = 0 ; i_bg_2579 < n_bg_2579 ; i_bg_2579++){\n",
        "        printf(\"\\t%d\", arr_bg_2579[i_bg_2579]);\n",
        "    }\n",
        "    int no_dup_bg_2579, no_bg_2579, max_dup_bg_2579 = 0, max_no_bg_2579;\n",
        "    for(int i_bg_2579 = 0; i_bg_2579 < n_bg_2579-1; i_bg_2579++)\n",
        "    {\n",
        "        no_bg_2579 = 0;\n",
        "        for(int j_bg_2579 = i_bg_2579+1; j_bg_2579<n_bg_2579; j_bg_2579++)\n",
        "        {\n",
        "            if (arr_bg_2579[i_bg_2579]==arr_bg_2579[j_bg_2579] && visited_bg_2579[j_bg_2579]==0)\n",
        "            {\n",
        "                no_dup_bg_2579++;\n",
        "                no_bg_2579++;\n",
        "                visited_bg_2579[j_bg_2579] = 1;\n",
        "            }\n",
        "        }\n",
        "        if (max_dup_bg_2579<no_bg_2579)\n",
        "        {\n",
        "            max_dup_bg_2579 = no_bg_2579;\n",
        "            max_no_bg_2579 = arr_bg_2579[i_bg_2579];\n",
        "        }\n",
        "    }\n",
        "    printf(\"\\n\\nThe total number of duplicate elements : %d\\n\", no_dup_bg_2579);\n",
        "    printf(\"The most frequent element is : %d\\n\", max_no_bg_2579);\n",
        "}"
      ],
      "metadata": {
        "colab": {
          "base_uri": "https://localhost:8080/"
        },
        "id": "7k_8Qd1ccpoq",
        "outputId": "7e2170a7-5252-43e1-c356-6b9165f3753e"
      },
      "execution_count": null,
      "outputs": [
        {
          "output_type": "stream",
          "name": "stdout",
          "text": [
            "Overwriting A2.c\n"
          ]
        }
      ]
    },
    {
      "cell_type": "code",
      "source": [
        "%%script bash\n",
        "gcc A2.c"
      ],
      "metadata": {
        "id": "hLzCQTubkiPT"
      },
      "execution_count": null,
      "outputs": []
    },
    {
      "cell_type": "code",
      "source": [
        "!./a.out"
      ],
      "metadata": {
        "colab": {
          "base_uri": "https://localhost:8080/"
        },
        "id": "p4LJT1bYklnb",
        "outputId": "f3f51768-62c3-45e8-cbb0-14ddd0bafc60"
      },
      "execution_count": null,
      "outputs": [
        {
          "output_type": "stream",
          "name": "stdout",
          "text": [
            "Enter the value of n greater than 10 for must having duplicate elements : 12\n",
            "The random array elements are as follows: \n",
            "\t84\t87\t78\t16\t94\t36\t87\t93\t50\t22\t63\t28\n",
            "\n",
            "The total number of duplicate elements : 1\n",
            "The most frequent element is : 87\n"
          ]
        }
      ]
    },
    {
      "cell_type": "markdown",
      "source": [
        "#1.3"
      ],
      "metadata": {
        "id": "tBWTR0hGVe1q"
      }
    },
    {
      "cell_type": "code",
      "source": [
        "%%writefile A3.c\n",
        "//Lab1.3 (27/07/2023)\n",
        "#include<stdio.h>\n",
        "\n",
        "void swap(int *a, int *b)\n",
        "{\n",
        "\tint temp = *a;\n",
        "\t*a = *b;\n",
        "\t*b = temp;\n",
        "}\n",
        "\n",
        "void segregateEvenOdd(int arr[], int size)\n",
        "{\n",
        "\tint left = 0, right = size-1;\n",
        "\twhile (left < right)\n",
        "\t{\n",
        "\t\twhile (arr[left]%2 == 0 && left < right)\n",
        "\t\t\tleft++;\n",
        "\t\twhile (arr[right]%2 == 1 && left < right)\n",
        "\t\t\tright--;\n",
        "\n",
        "\t\tif (left < right)\n",
        "\t\t{\n",
        "\t\t\tswap(&arr[left], &arr[right]);\n",
        "\t\t\tleft++;\n",
        "\t\t\tright--;\n",
        "\t\t}\n",
        "\t}\n",
        "}\n",
        "\n",
        "int main()\n",
        "{\n",
        "  int n_bg_2579;\n",
        "  printf(\"Enter the size of array:\");\n",
        "  scanf(\"%d\", &n_bg_2579);\n",
        "\tint arr_bg_2579[n_bg_2579];\n",
        "\n",
        "  for(int i_bg_2579 = 0 ; i_bg_2579 < n_bg_2579 ; i_bg_2579++)\n",
        "    scanf(\"%d\", &arr_bg_2579[i_bg_2579]);\n",
        "\n",
        "\tsegregateEvenOdd(arr_bg_2579, n_bg_2579);\n",
        "\n",
        "\tfor (int i_bg_2579 = 0; i_bg_2579 < n_bg_2579; i_bg_2579++)\n",
        "\t\tprintf(\"%d\\t\", arr_bg_2579[i_bg_2579]);\n",
        "\n",
        "\treturn 0;\n",
        "}"
      ],
      "metadata": {
        "colab": {
          "base_uri": "https://localhost:8080/"
        },
        "id": "KpU2K9TbkzEv",
        "outputId": "92a31e87-b0eb-4b9b-de78-5e2e15a75de2"
      },
      "execution_count": null,
      "outputs": [
        {
          "output_type": "stream",
          "name": "stdout",
          "text": [
            "Writing A3.c\n"
          ]
        }
      ]
    },
    {
      "cell_type": "code",
      "source": [
        "%%script bash\n",
        "gcc A3.c"
      ],
      "metadata": {
        "id": "edjTME3slUKS"
      },
      "execution_count": null,
      "outputs": []
    },
    {
      "cell_type": "code",
      "source": [
        "!./a.out"
      ],
      "metadata": {
        "colab": {
          "base_uri": "https://localhost:8080/"
        },
        "id": "6pJQ8Rh-lVHs",
        "outputId": "656dc8f2-fe47-4387-f7c0-5f798202c292"
      },
      "execution_count": null,
      "outputs": [
        {
          "output_type": "stream",
          "name": "stdout",
          "text": [
            "Enter the size of array:8\n",
            "86 54 31 93 57 78 40 59\n",
            "86\t54\t40\t78\t57\t93\t31\t59\t"
          ]
        }
      ]
    },
    {
      "cell_type": "markdown",
      "source": [
        "#1.4"
      ],
      "metadata": {
        "id": "biqk4lXQVhYi"
      }
    },
    {
      "cell_type": "code",
      "source": [
        "%%writefile A4.c\n",
        "//Lab1.4 (27/07/2023)\n",
        "#include <stdio.h>\n",
        "void swap(int *a, int *b)\n",
        "{\n",
        "\tint temp = *a;\n",
        "\t*a = *b;\n",
        "\t*b = temp;\n",
        "}\n",
        "int main()\n",
        "{\n",
        "  int a_bg_2579, b_bg_2579, c_bg_2579;\n",
        "  printf(\"Enter three numbers:\\n\");\n",
        "  scanf(\"%d %d %d\", &a_bg_2579, &b_bg_2579, &c_bg_2579);\n",
        "  printf(\"Before swapping\\n%d\\t%d\\t%d\\n\", a_bg_2579, b_bg_2579, c_bg_2579);\n",
        "\tswap(&a_bg_2579,&b_bg_2579);\n",
        "\tswap(&a_bg_2579,&c_bg_2579);\n",
        "\tprintf(\"After swapping\\n%d\\t%d\\t%d\\n\", a_bg_2579, b_bg_2579, c_bg_2579);\n",
        "}"
      ],
      "metadata": {
        "colab": {
          "base_uri": "https://localhost:8080/"
        },
        "id": "XSbPDLGHnDa7",
        "outputId": "a5fbfef8-1aec-43ea-c71a-cf0e4bf87ee1"
      },
      "execution_count": null,
      "outputs": [
        {
          "output_type": "stream",
          "name": "stdout",
          "text": [
            "Writing A4.c\n"
          ]
        }
      ]
    },
    {
      "cell_type": "code",
      "source": [
        "%%script bash\n",
        "gcc A4.c"
      ],
      "metadata": {
        "id": "4XEQ3gyunINZ"
      },
      "execution_count": null,
      "outputs": []
    },
    {
      "cell_type": "code",
      "source": [
        "!./a.out"
      ],
      "metadata": {
        "colab": {
          "base_uri": "https://localhost:8080/"
        },
        "id": "nMOIU5NTnH86",
        "outputId": "365fecea-4199-49c0-8d22-dc5f56fcc411"
      },
      "execution_count": null,
      "outputs": [
        {
          "output_type": "stream",
          "name": "stdout",
          "text": [
            "Enter three numbers:\n",
            "21\n",
            "05\n",
            "25\n",
            "Before swapping\n",
            "21\t5\t25\n",
            "After swapping\n",
            "25\t21\t5\n"
          ]
        }
      ]
    },
    {
      "cell_type": "markdown",
      "source": [
        "#1.5"
      ],
      "metadata": {
        "id": "GbysRHIEVjQy"
      }
    },
    {
      "cell_type": "code",
      "source": [
        "%%writefile A5.c\n",
        "//Lab1.5 (27/07/2023)\n",
        "#include <stdio.h>\n",
        "int main()\n",
        "{\n",
        "\tint arr_bg_2579[3][3];\n",
        "\tint nonzero_bg_2579 = 0;\n",
        "\tint sumabove_bg_2579=0;\n",
        "\tint diagprod_bg_2579=1;\n",
        "\tprintf(\"Enter the elements for 3*3 square matrix respectively\\n\");\n",
        "\tfor (int i_bg_2579 = 0; i_bg_2579 < 3; i_bg_2579++)\n",
        "\t{\n",
        "\t\tfor (int j_bg_2579 = 0; j_bg_2579 < 3; j_bg_2579++)\n",
        "\t\t\tscanf(\"%d\",&arr_bg_2579[i_bg_2579][j_bg_2579]);\n",
        "\t}\n",
        "\tfor (int i_bg_2579 = 0; i_bg_2579 < 3; i_bg_2579++)\n",
        "\t{\n",
        "\t\tfor (int j_bg_2579 = 0; j_bg_2579 < 3; j_bg_2579++)\n",
        "\t\t{\n",
        "\t\t\tprintf(\"%d\\t\",arr_bg_2579[i_bg_2579][j_bg_2579]);\n",
        "\t\t\tif (arr_bg_2579[i_bg_2579][j_bg_2579]!=0)\n",
        "\t\t\t\tnonzero_bg_2579++;\n",
        "\t\t\tif (j_bg_2579 > i_bg_2579)\n",
        "\t\t\t\tsumabove_bg_2579+=arr_bg_2579[i_bg_2579][j_bg_2579];\n",
        "\t\t\tif (i_bg_2579 == j_bg_2579)\n",
        "\t\t\t\tdiagprod_bg_2579*=arr_bg_2579[i_bg_2579][j_bg_2579];\n",
        "\t\t}\n",
        "\t\tprintf(\"\\n\");\n",
        "\t}\n",
        "\tprintf(\"The number of non-zero elemets is %d\\n\",nonzero_bg_2579);\n",
        "\tprintf(\"The sum of elements above leading diagonal is %d\\n\",sumabove_bg_2579);\n",
        "\tprintf(\"The elements above minor diagonal is as follows -\\n\");\n",
        "\tfor (int i_bg_2579 = 0; i_bg_2579 < 3; i_bg_2579++)\n",
        "\t{\n",
        "\t\tfor (int j_bg_2579 = 0; j_bg_2579 < 3; j_bg_2579++)\n",
        "\t\t{\n",
        "\t\t\tif (i_bg_2579 + j_bg_2579 < 2)\n",
        "\t\t\t\tprintf(\"%d\\t\",arr_bg_2579[i_bg_2579][j_bg_2579]);\n",
        "\t\t}\n",
        "\t\tprintf(\"\\n\");\n",
        "\t}\n",
        "\tprintf(\"The product of diagonal elements is %d\\n\",diagprod_bg_2579);\n",
        "}"
      ],
      "metadata": {
        "colab": {
          "base_uri": "https://localhost:8080/"
        },
        "id": "ReiTn7SyoNqp",
        "outputId": "12f64a7a-b051-4303-aa9d-ca00d29044b3"
      },
      "execution_count": null,
      "outputs": [
        {
          "output_type": "stream",
          "name": "stdout",
          "text": [
            "Overwriting A5.c\n"
          ]
        }
      ]
    },
    {
      "cell_type": "code",
      "source": [
        "%%script bash\n",
        "gcc A5.c"
      ],
      "metadata": {
        "id": "5XvBDEk6obv4"
      },
      "execution_count": null,
      "outputs": []
    },
    {
      "cell_type": "code",
      "source": [
        "!./a.out"
      ],
      "metadata": {
        "colab": {
          "base_uri": "https://localhost:8080/"
        },
        "id": "zQarHhlHog0A",
        "outputId": "ee31a2e9-ba85-4148-d069-29aa18c86fdb"
      },
      "execution_count": null,
      "outputs": [
        {
          "output_type": "stream",
          "name": "stdout",
          "text": [
            "Enter the elements for 3*3 square matrix respectively\n",
            "12 3 0 0 4 0 0 0 5\n",
            "12\t3\t0\t\n",
            "0\t4\t0\t\n",
            "0\t0\t5\t\n",
            "The number of non-zero elemets is 4\n",
            "The sum of elements above leading diagonal is 3\n",
            "The elements above minor diagonal is as follows -\n",
            "12\t3\t\n",
            "0\t\n",
            "\n",
            "The product of diagonal elements is 240\n"
          ]
        }
      ]
    }
  ]
}