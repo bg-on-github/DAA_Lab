{
  "nbformat": 4,
  "nbformat_minor": 0,
  "metadata": {
    "colab": {
      "provenance": []
    },
    "kernelspec": {
      "name": "python3",
      "display_name": "Python 3"
    },
    "language_info": {
      "name": "python"
    }
  },
  "cells": [
    {
      "cell_type": "markdown",
      "source": [
        "##**Problem 1**"
      ],
      "metadata": {
        "id": "d0ROBKxzX-Vn"
      }
    },
    {
      "cell_type": "code",
      "execution_count": null,
      "metadata": {
        "id": "oXSDbGUtX75n",
        "colab": {
          "base_uri": "https://localhost:8080/"
        },
        "outputId": "4d22c79d-e0e4-47cb-acb5-649f2aa0cf2a"
      },
      "outputs": [
        {
          "output_type": "stream",
          "name": "stdout",
          "text": [
            "Overwriting A1.c\n"
          ]
        }
      ],
      "source": [
        "%%writefile A1.c\n",
        "//Lab3.1 (10/08/2023)\n",
        "#include<stdlib.h>\n",
        "#include<string.h>\n",
        "#include<stdio.h>\n",
        "void printArray(int arr_bg_2579[], int n_bg_2579)\n",
        "{\n",
        "  int i_bg_2579;\n",
        "  for (i_bg_2579 = 0; i_bg_2579 < n_bg_2579; i_bg_2579++)\n",
        "      printf(\"%d \", arr_bg_2579[i_bg_2579]);\n",
        "  printf(\"\\n\");\n",
        "  return;\n",
        "}\n",
        "long insertionSort(int arr_bg_2579[], int n_bg_2579, int order_bg_2579, int retstep_bg_2579)\n",
        "{\n",
        "  int i_bg_2579, key, j_bg_2579;\n",
        "  long steps_bg_2579 = 0;\n",
        "  for (i_bg_2579 = 1; i_bg_2579 < n_bg_2579; i_bg_2579++)\n",
        "  {\n",
        "    steps_bg_2579++;\n",
        "    key = arr_bg_2579[i_bg_2579];\n",
        "    j_bg_2579 = i_bg_2579 - 1;\n",
        "    if(order_bg_2579 == 0)//Ascending\n",
        "    {\n",
        "      while (j_bg_2579 >= 0 && arr_bg_2579[j_bg_2579] > key)\n",
        "      {\n",
        "        steps_bg_2579++;\n",
        "        arr_bg_2579[j_bg_2579 + 1] = arr_bg_2579[j_bg_2579]; steps_bg_2579++;\n",
        "        j_bg_2579 = j_bg_2579 - 1; steps_bg_2579++;\n",
        "      }\n",
        "    }\n",
        "    else if(order_bg_2579 == 1)//Descending\n",
        "    {\n",
        "      while (j_bg_2579 >= 0 && arr_bg_2579[j_bg_2579] < key)\n",
        "      {\n",
        "        steps_bg_2579++;\n",
        "        arr_bg_2579[j_bg_2579 + 1] = arr_bg_2579[j_bg_2579]; steps_bg_2579++;\n",
        "        j_bg_2579 = j_bg_2579 - 1; steps_bg_2579++;\n",
        "      }\n",
        "    }\n",
        "    arr_bg_2579[j_bg_2579 + 1] = key;\n",
        "  }\n",
        "  if(retstep_bg_2579 == 1)\n",
        "    return steps_bg_2579;\n",
        "  return 0;\n",
        "}\n",
        "void fillup(int arr_bg_2579[], int n_bg_2579)\n",
        "{\n",
        "  for(int i_bg_2579 = 0; i_bg_2579 < n_bg_2579; i_bg_2579++)\n",
        "    arr_bg_2579[i_bg_2579] = rand();\n",
        "  return;\n",
        "}\n",
        "int main()\n",
        "{\n",
        "  int n_bg_2579, ch_bg_2579;\n",
        "  long stepcount_bg_2579;\n",
        "  printf(\"Enter the value of n:\");\n",
        "  scanf(\"%d\", &n_bg_2579);\n",
        "  int arr_bg_2579[n_bg_2579];\n",
        "  memset(arr_bg_2579, 0, n_bg_2579);\n",
        "  printf(\"MENU\\n---------\\n0. Quit.\\n1. Enter n Random Numbers into the Array\\n2. Display the array\\n3. Sort the array in Ascending order\\n4. Sort the Array in Descending Order\\n\");\n",
        "  printf(\"5. Time Complexity to sort ascending of random data\\n6. Time Complexity to sort ascending of data already sorted in ascending order\\n\");\n",
        "  printf(\"7. Time Complexity to sort ascending of data already sorted in descending order\\n8. Time Complexity to sort ascending of data for all Cases (Data Ascending, Data in Descending & Random Data) in Tabular form for values n=5000 to 50000, step=5000\\n\");\n",
        "  while(1)\n",
        "  {\n",
        "    printf(\"\\nNow enter your choice:\\n\");\n",
        "    scanf(\"%d\", &ch_bg_2579);\n",
        "    switch(ch_bg_2579)\n",
        "    {\n",
        "      case 0:\n",
        "        exit(0);\n",
        "      break;\n",
        "      case 1:\n",
        "        fillup(arr_bg_2579, n_bg_2579);\n",
        "      break;\n",
        "      case 2:\n",
        "        printArray(arr_bg_2579, n_bg_2579);\n",
        "      break;\n",
        "      case 3:\n",
        "        insertionSort(arr_bg_2579, n_bg_2579, 0, 0);\n",
        "      break;\n",
        "      case 4:\n",
        "        insertionSort(arr_bg_2579, n_bg_2579, 1, 0);\n",
        "      break;\n",
        "      case 5:\n",
        "        fillup(arr_bg_2579, n_bg_2579);\n",
        "        stepcount_bg_2579 = insertionSort(arr_bg_2579, n_bg_2579, 0, 1);\n",
        "        printf(\"Steps taken to sort a random array in ascending order by insertion sort: %ld\", stepcount_bg_2579);\n",
        "      break;\n",
        "      case 6:\n",
        "        fillup(arr_bg_2579, n_bg_2579);\n",
        "        insertionSort(arr_bg_2579, n_bg_2579, 0, 0);\n",
        "        stepcount_bg_2579 = insertionSort(arr_bg_2579, n_bg_2579, 0, 1);\n",
        "        printf(\"Steps taken to sort an array sorted in ascending order, in ascending order by insertion sort: %ld\", stepcount_bg_2579);\n",
        "      break;\n",
        "      case 7:\n",
        "        fillup(arr_bg_2579, n_bg_2579);\n",
        "        insertionSort(arr_bg_2579, n_bg_2579, 1, 0);\n",
        "        stepcount_bg_2579 = insertionSort(arr_bg_2579, n_bg_2579, 0, 1);\n",
        "        printf(\"Steps taken to sort an array sorted in descending order, in ascending order by insertion sort: %ld\", stepcount_bg_2579);\n",
        "      break;\n",
        "      case 8:\n",
        "        printf(\"Value of n\\t\\tTime for Random\\t\\tTime for Ascending Data\\t\\tTime for Descending Data\\n\");\n",
        "        for(int j_bg_2579 = 5000; j_bg_2579<=50000; j_bg_2579+=5000)\n",
        "        {\n",
        "          int sarr_bg_2579[j_bg_2579];\n",
        "          fillup(sarr_bg_2579, j_bg_2579);\n",
        "          long steprand_bg_2579 = insertionSort(sarr_bg_2579, j_bg_2579, 0, 1);\n",
        "          long stepasc_bg_2579 = insertionSort(sarr_bg_2579, j_bg_2579, 0, 1);\n",
        "          insertionSort(sarr_bg_2579, j_bg_2579, 1, 0);\n",
        "          long stepdesc_bg_2579 = insertionSort(sarr_bg_2579, j_bg_2579, 0, 1);\n",
        "          printf(\"%d\\t\\t\\t%ld\\t\\t\\t%ld\\t\\t\\t%ld\\n\", j_bg_2579, steprand_bg_2579, stepasc_bg_2579, stepdesc_bg_2579);\n",
        "        }\n",
        "      break;\n",
        "      default:\n",
        "        printf(\"Wrong choice\");\n",
        "    }\n",
        "  }\n",
        "  return 0;\n",
        "}"
      ]
    },
    {
      "cell_type": "code",
      "source": [
        "%%script bash\n",
        "gcc A1.c"
      ],
      "metadata": {
        "id": "5-08fCevcBXc"
      },
      "execution_count": null,
      "outputs": []
    },
    {
      "cell_type": "code",
      "source": [
        "!./a.out"
      ],
      "metadata": {
        "id": "vqn6x4WocUHg"
      },
      "execution_count": null,
      "outputs": []
    },
    {
      "cell_type": "markdown",
      "source": [
        "#**Problem 2**"
      ],
      "metadata": {
        "id": "vh8eIKs5xc4s"
      }
    },
    {
      "cell_type": "code",
      "source": [
        "%%writefile A2.c\n",
        "#include<stdlib.h>\n",
        "#include<string.h>\n",
        "#include<stdio.h>\n",
        "#include<time.h>\n",
        "void printArray(int arr_bg_2579[], int n_bg_2579)\n",
        "{\n",
        "  int i_bg_2579;\n",
        "  for (i_bg_2579 = 0; i_bg_2579 < n_bg_2579; i_bg_2579++)\n",
        "      printf(\"%d \", arr_bg_2579[i_bg_2579]);\n",
        "  printf(\"\\n\");\n",
        "  return;\n",
        "}\n",
        "double insertionSort(int arr_bg_2579[], int n_bg_2579, int order_bg_2579, int retstep_bg_2579)\n",
        "{\n",
        "  int i_bg_2579, key_bg_2579, j_bg_2579;\n",
        "  double steps_bg_2579 = 0.0000000;\n",
        "  clock_t t_bg_2579 = clock();\n",
        "  for (i_bg_2579 = 1; i_bg_2579 < n_bg_2579; i_bg_2579++)\n",
        "  {\n",
        "    key_bg_2579 = arr_bg_2579[i_bg_2579];\n",
        "    j_bg_2579 = i_bg_2579 - 1;\n",
        "    if(order_bg_2579 == 0)//Ascending\n",
        "    {\n",
        "      while (j_bg_2579 >= 0 && arr_bg_2579[j_bg_2579] > key_bg_2579)\n",
        "      {\n",
        "        arr_bg_2579[j_bg_2579 + 1] = arr_bg_2579[j_bg_2579];\n",
        "        j_bg_2579 = j_bg_2579 - 1;\n",
        "      }\n",
        "    }\n",
        "    else if(order_bg_2579 == 1)//Descending\n",
        "    {\n",
        "      while (j_bg_2579 >= 0 && arr_bg_2579[j_bg_2579] < key_bg_2579)\n",
        "      {\n",
        "        arr_bg_2579[j_bg_2579 + 1] = arr_bg_2579[j_bg_2579];\n",
        "        j_bg_2579 = j_bg_2579 - 1;\n",
        "      }\n",
        "    }\n",
        "    arr_bg_2579[j_bg_2579 + 1] = key_bg_2579;\n",
        "  }\n",
        "  t_bg_2579 = clock() - t_bg_2579;\n",
        "  steps_bg_2579 = ((double)t_bg_2579)/CLOCKS_PER_SEC;\n",
        "  if(retstep_bg_2579 == 1)\n",
        "    return steps_bg_2579;\n",
        "  return 0.0000000;\n",
        "}\n",
        "void fillup(int arr_bg_2579[], int n_bg_2579)\n",
        "{\n",
        "  for(int i_bg_2579 = 0; i_bg_2579 < n_bg_2579; i_bg_2579++)\n",
        "    arr_bg_2579[i_bg_2579] = rand();\n",
        "  return;\n",
        "}\n",
        "int main()\n",
        "{\n",
        "  int n_bg_2579, ch_bg_2579;\n",
        "  double stepcount_bg_2579;\n",
        "  printf(\"Enter the value of n:\");\n",
        "  scanf(\"%d\", &n_bg_2579);\n",
        "  int arr_bg_2579[n_bg_2579];\n",
        "  memset(arr_bg_2579, 0, n_bg_2579);\n",
        "  printf(\"MENU\\n---------\\n0. Quit.\\n1. Enter n Random Numbers into the Array\\n2. Display the array\\n3. Sort the array in Ascending order\\n4. Sort the Array in Descending Order\\n\");\n",
        "  printf(\"5. Time Complexity to sort ascending of random data\\n6. Time Complexity to sort ascending of data already sorted in ascending order\\n\");\n",
        "  printf(\"7. Time Complexity to sort ascending of data already sorted in descending order\\n8. Time Complexity to sort ascending of data for all Cases (Data Ascending, Data in Descending & Random Data) in Tabular form for values n=5000 to 50000, step=5000\\n\");\n",
        "  while(1)\n",
        "  {\n",
        "    printf(\"\\nNow enter your choice:\\n\");\n",
        "    scanf(\"%d\", &ch_bg_2579);\n",
        "    switch(ch_bg_2579)\n",
        "    {\n",
        "      case 0:\n",
        "        exit(0);\n",
        "      break;\n",
        "      case 1:\n",
        "        fillup(arr_bg_2579, n_bg_2579);\n",
        "      break;\n",
        "      case 2:\n",
        "        printArray(arr_bg_2579, n_bg_2579);\n",
        "      break;\n",
        "      case 3:\n",
        "        insertionSort(arr_bg_2579, n_bg_2579, 0, 0);\n",
        "      break;\n",
        "      case 4:\n",
        "        insertionSort(arr_bg_2579, n_bg_2579, 1, 0);\n",
        "      break;\n",
        "      case 5:\n",
        "        fillup(arr_bg_2579, n_bg_2579);\n",
        "        stepcount_bg_2579 = insertionSort(arr_bg_2579, n_bg_2579, 0, 1);\n",
        "        printf(\"Steps taken to sort a random array in ascending order by insertion sort: %f\", stepcount_bg_2579);\n",
        "      break;\n",
        "      case 6:\n",
        "        fillup(arr_bg_2579, n_bg_2579);\n",
        "        insertionSort(arr_bg_2579, n_bg_2579, 0, 0);\n",
        "        stepcount_bg_2579 = insertionSort(arr_bg_2579, n_bg_2579, 0, 1);\n",
        "        printf(\"Steps taken to sort an array sorted in ascending order, in ascending order by insertion sort: %f\", stepcount_bg_2579);\n",
        "      break;\n",
        "      case 7:\n",
        "        fillup(arr_bg_2579, n_bg_2579);\n",
        "        insertionSort(arr_bg_2579, n_bg_2579, 1, 0);\n",
        "        stepcount_bg_2579 = insertionSort(arr_bg_2579, n_bg_2579, 0, 1);\n",
        "        printf(\"Steps taken to sort an array sorted in descending order, in ascending order by insertion sort: %f\", stepcount_bg_2579);\n",
        "      break;\n",
        "      case 8:\n",
        "        printf(\"Value of n\\t\\tTime for Random\\t\\tTime for Ascending Data\\t\\tTime for Descending Data\\n\");\n",
        "        for(int j_bg_2579 = 5000; j_bg_2579<=50000; j_bg_2579+=5000)\n",
        "        {\n",
        "          int sarr_bg_2579[j_bg_2579];\n",
        "          fillup(sarr_bg_2579, j_bg_2579);\n",
        "          double steprand_bg_2579 = insertionSort(sarr_bg_2579, j_bg_2579, 0, 1);\n",
        "          double stepasc_bg_2579 = insertionSort(sarr_bg_2579, j_bg_2579, 0, 1);\n",
        "          insertionSort(sarr_bg_2579, j_bg_2579, 1, 0);\n",
        "          double stepdesc_bg_2579 = insertionSort(sarr_bg_2579, j_bg_2579, 0, 1);\n",
        "          printf(\"%d\\t\\t\\t%f\\t\\t\\t%f\\t\\t\\t%f\\n\", j_bg_2579, steprand_bg_2579, stepasc_bg_2579, stepdesc_bg_2579);\n",
        "        }\n",
        "      break;\n",
        "      default:\n",
        "        printf(\"Wrong choice\");\n",
        "    }\n",
        "  }\n",
        "  return 0;\n",
        "}"
      ],
      "metadata": {
        "colab": {
          "base_uri": "https://localhost:8080/"
        },
        "id": "5DraaoE6xgAE",
        "outputId": "72365b6c-bb20-4f32-b5a3-b45026ed99d4"
      },
      "execution_count": null,
      "outputs": [
        {
          "output_type": "stream",
          "name": "stdout",
          "text": [
            "Writing A2.c\n"
          ]
        }
      ]
    },
    {
      "cell_type": "code",
      "source": [
        "%%script bash\n",
        "gcc A2.c"
      ],
      "metadata": {
        "id": "rl7XumOExg0R"
      },
      "execution_count": null,
      "outputs": []
    },
    {
      "cell_type": "code",
      "source": [
        "!./a.out"
      ],
      "metadata": {
        "colab": {
          "base_uri": "https://localhost:8080/"
        },
        "id": "iU8owIx9xgSl",
        "outputId": "99a6aa70-6d3c-44e7-f7ae-8962ed9a91b1"
      },
      "execution_count": null,
      "outputs": [
        {
          "output_type": "stream",
          "name": "stdout",
          "text": [
            "Enter the value of n:10\n",
            "MENU\n",
            "---------\n",
            "0. Quit.\n",
            "1. Enter n Random Numbers into the Array\n",
            "2. Display the array\n",
            "3. Sort the array in Ascending order\n",
            "4. Sort the Array in Descending Order\n",
            "5. Time Complexity to sort ascending of random data\n",
            "6. Time Complexity to sort ascending of data already sorted in ascending order\n",
            "7. Time Complexity to sort ascending of data already sorted in descending order\n",
            "8. Time Complexity to sort ascending of data for all Cases (Data Ascending, Data in Descending & Random Data) in Tabular form for values n=5000 to 50000, step=5000\n",
            "\n",
            "Now enter your choice:\n",
            "8\n",
            "Value of n\t\tTime for Random\t\tTime for Ascending Data\t\tTime for Descending Data\n",
            "5000\t\t\t0.021104\t\t\t0.000021\t\t\t0.041267\n",
            "10000\t\t\t0.081153\t\t\t0.000043\t\t\t0.168335\n",
            "15000\t\t\t0.184286\t\t\t0.000070\t\t\t0.378979\n",
            "20000\t\t\t0.338825\t\t\t0.000084\t\t\t0.668468\n",
            "25000\t\t\t0.526210\t\t\t0.000105\t\t\t1.064144\n",
            "30000\t\t\t0.774215\t\t\t0.000126\t\t\t2.562760\n",
            "35000\t\t\t1.351712\t\t\t0.000161\t\t\t2.045158\n",
            "40000\t\t\t1.347050\t\t\t0.000169\t\t\t4.079966\n",
            "45000\t\t\t1.755835\t\t\t0.000191\t\t\t3.414344\n",
            "50000\t\t\t2.607878\t\t\t0.000434\t\t\t4.198373\n",
            "\n",
            "Now enter your choice:\n",
            "0\n"
          ]
        }
      ]
    },
    {
      "cell_type": "markdown",
      "source": [
        "#**Problem 3**"
      ],
      "metadata": {
        "id": "jw8TG4Zz5Y7d"
      }
    },
    {
      "cell_type": "code",
      "source": [
        "%%writefile A3.c\n",
        "//Lab3.3 (10/08/2023)\n",
        "#include<math.h>\n",
        "#include<stdio.h>\n",
        "int main()\n",
        "{\n",
        "  int m_bg_2579, n_bg_2579;\n",
        "  printf(\"Enter m:\"); scanf(\"%d\", &m_bg_2579);\n",
        "  printf(\"Enter n:\"); scanf(\"%d\", &n_bg_2579);\n",
        "  double A_bg_2579[m_bg_2579][n_bg_2579];\n",
        "\n",
        "  double rowSum_bg_2579[m_bg_2579];\n",
        "  double colSum_bg_2579[n_bg_2579];\n",
        "\n",
        "  printf(\"\\nEnter the matrix of dimensions %d x %d:\\n\", m_bg_2579, n_bg_2579);\n",
        "  for(int i_bg_2579=0;i_bg_2579<m_bg_2579;i_bg_2579++)\n",
        "  {\n",
        "    for(int j_bg_2579=0;j_bg_2579<n_bg_2579;j_bg_2579++)\n",
        "    {\n",
        "      scanf(\"%lf\", &A_bg_2579[i_bg_2579][j_bg_2579]);\n",
        "      rowSum_bg_2579[i_bg_2579]+=floor(A_bg_2579[i_bg_2579][j_bg_2579]);\n",
        "      colSum_bg_2579[j_bg_2579]+=floor(A_bg_2579[i_bg_2579][j_bg_2579]);\n",
        "    }\n",
        "  }\n",
        "  for(int i_bg_2579=m_bg_2579-1;i_bg_2579>=0;i_bg_2579--)\n",
        "  {\n",
        "    for(int j_bg_2579=n_bg_2579-1;j_bg_2579>=0;j_bg_2579--)\n",
        "    {\n",
        "      double floorVal_bg_2579 = floor(A_bg_2579[i_bg_2579][j_bg_2579]);\n",
        "      double ceilVal_bg_2579 = ceil(A_bg_2579[i_bg_2579][j_bg_2579]);\n",
        "\n",
        "      double fractionalPart_bg_2579 = A_bg_2579[i_bg_2579][j_bg_2579] - floorVal_bg_2579;\n",
        "      if (colSum_bg_2579[j_bg_2579] < ceilVal_bg_2579)\n",
        "      {\n",
        "        A_bg_2579[i_bg_2579][j_bg_2579] = floorVal_bg_2579;\n",
        "        rowSum_bg_2579[i_bg_2579] += ceilVal_bg_2579 - floorVal_bg_2579;\n",
        "      }\n",
        "      else if (rowSum_bg_2579[i_bg_2579] < ceilVal_bg_2579)\n",
        "      {\n",
        "        A_bg_2579[i_bg_2579][j_bg_2579] = ceilVal_bg_2579;\n",
        "        colSum_bg_2579[j_bg_2579] += ceilVal_bg_2579 - floorVal_bg_2579;\n",
        "      }\n",
        "      else\n",
        "      {\n",
        "        if (fractionalPart_bg_2579 < 0.5)\n",
        "        {\n",
        "          A_bg_2579[i_bg_2579][j_bg_2579] = floorVal_bg_2579;\n",
        "          rowSum_bg_2579[i_bg_2579] += ceilVal_bg_2579 - floorVal_bg_2579;\n",
        "        }\n",
        "        else\n",
        "        {\n",
        "          A_bg_2579[i_bg_2579][j_bg_2579] = ceilVal_bg_2579;\n",
        "          colSum_bg_2579[j_bg_2579] += ceilVal_bg_2579 - floorVal_bg_2579;\n",
        "        }\n",
        "      }\n",
        "    }\n",
        "  }\n",
        "  printf(\"\\nFinal rounded-off matrix:\\n\");\n",
        "  for (int i_bg_2579 = 0; i_bg_2579 < m_bg_2579; i_bg_2579++)\n",
        "  {\n",
        "    for (int j_bg_2579 = 0; j_bg_2579 < n_bg_2579; j_bg_2579++)\n",
        "    {\n",
        "      printf(\"%d\\t\", (int)A_bg_2579[i_bg_2579][j_bg_2579]);\n",
        "    }\n",
        "    printf(\"\\n\");\n",
        "  }\n",
        "  return 0;\n",
        "}"
      ],
      "metadata": {
        "id": "YgoPWgHv5a77",
        "colab": {
          "base_uri": "https://localhost:8080/"
        },
        "outputId": "f1aa2357-8b16-40a9-c542-9a7528ef2b16"
      },
      "execution_count": null,
      "outputs": [
        {
          "output_type": "stream",
          "name": "stdout",
          "text": [
            "Writing A3.c\n"
          ]
        }
      ]
    },
    {
      "cell_type": "code",
      "source": [
        "%%script bash\n",
        "gcc A3.c -lm"
      ],
      "metadata": {
        "id": "TCOTDYCe5bZ8"
      },
      "execution_count": null,
      "outputs": []
    },
    {
      "cell_type": "code",
      "source": [
        "!./a.out"
      ],
      "metadata": {
        "id": "zxdDFrkj5bOM",
        "colab": {
          "base_uri": "https://localhost:8080/"
        },
        "outputId": "d6a9befa-99f7-482c-d77e-bff2ab1e0895"
      },
      "execution_count": null,
      "outputs": [
        {
          "output_type": "stream",
          "name": "stdout",
          "text": [
            "Enter m:4\n",
            "Enter n:4\n",
            "\n",
            "Enter the matrix of dimensions 4 x 4:\n",
            "10.9 2.5 1.3 9.3 3.8 9.2 2.2 11.8 7.9 5.2 7.3 0.6 3.4 13.1 1.2 6.3\n",
            "\n",
            "Final rounded-off matrix:\n",
            "11\t3\t1\t9\t\n",
            "4\t9\t2\t12\t\n",
            "8\t5\t7\t1\t\n",
            "3\t13\t1\t6\t\n"
          ]
        }
      ]
    }
  ]
}