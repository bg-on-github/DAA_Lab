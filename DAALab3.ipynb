{
  "nbformat": 4,
  "nbformat_minor": 0,
  "metadata": {
    "colab": {
      "provenance": []
    },
    "kernelspec": {
      "name": "python3",
      "display_name": "Python 3"
    },
    "language_info": {
      "name": "python"
    }
  },
  "cells": [
    {
      "cell_type": "markdown",
      "source": [
        "##**Problem 1**"
      ],
      "metadata": {
        "id": "d0ROBKxzX-Vn"
      }
    },
    {
      "cell_type": "code",
      "execution_count": null,
      "metadata": {
        "id": "oXSDbGUtX75n",
        "colab": {
          "base_uri": "https://localhost:8080/"
        },
        "outputId": "a1541019-62ac-4de5-ae96-e911690c10e5"
      },
      "outputs": [
        {
          "output_type": "stream",
          "name": "stdout",
          "text": [
            "Overwriting A1.c\n"
          ]
        }
      ],
      "source": [
        "%%writefile A1.c\n",
        "//Lab3.1 (10/08/2023)\n",
        "#include<stdlib.h>\n",
        "#include<string.h>\n",
        "#include<stdio.h>\n",
        "void printArray(int arr[], int n)\n",
        "{\n",
        "  int i;\n",
        "  for (i = 0; i < n; i++)\n",
        "      printf(\"%d \", arr[i]);\n",
        "  printf(\"\\n\");\n",
        "  return;\n",
        "}\n",
        "long insertionSort(int arr[], int n, int order, int retstep)\n",
        "{\n",
        "  int i, key, j;\n",
        "  long steps = 0;\n",
        "  for (i = 1; i < n; i++)\n",
        "  {\n",
        "    steps++;\n",
        "    key = arr[i];\n",
        "    j = i - 1;\n",
        "    if(order == 0)//Ascending\n",
        "    {\n",
        "      while (j >= 0 && arr[j] > key)\n",
        "      {\n",
        "        steps++;\n",
        "        arr[j + 1] = arr[j]; steps++;\n",
        "        j = j - 1; steps++;\n",
        "      }\n",
        "    }\n",
        "    else if(order == 1)//Descending\n",
        "    {\n",
        "      while (j >= 0 && arr[j] < key)\n",
        "      {\n",
        "        steps++;\n",
        "        arr[j + 1] = arr[j]; steps++;\n",
        "        j = j - 1; steps++;\n",
        "      }\n",
        "    }\n",
        "    arr[j + 1] = key;\n",
        "  }\n",
        "  if(retstep == 1)\n",
        "    return steps;\n",
        "  return 0;\n",
        "}\n",
        "void fillup(int arr[], int n)\n",
        "{\n",
        "  for(int i = 0; i < n; i++)\n",
        "    arr[i] = rand();\n",
        "  return;\n",
        "}\n",
        "int main()\n",
        "{\n",
        "  int n, ch;\n",
        "  long stepcount;\n",
        "  printf(\"Enter the value of n:\");\n",
        "  scanf(\"%d\", &n);\n",
        "  int arr[n];\n",
        "  memset(arr, 0, n);\n",
        "  printf(\"MENU\\n---------\\n0. Quit.\\n1. Enter n Random Numbers into the Array\\n2. Display the array\\n3. Sort the array in Ascending order\\n4. Sort the Array in Descending Order\\n\");\n",
        "  printf(\"5. Time Complexity to sort ascending of random data\\n6. Time Complexity to sort ascending of data already sorted in ascending order\\n\");\n",
        "  printf(\"7. Time Complexity to sort ascending of data already sorted in descending order\\n8. Time Complexity to sort ascending of data for all Cases (Data Ascending, Data in Descending & Random Data) in Tabular form for values n=5000 to 50000, step=5000\\n\");\n",
        "  while(1)\n",
        "  {\n",
        "    printf(\"\\nNow enter your choice:\\n\");\n",
        "    scanf(\"%d\", &ch);\n",
        "    switch(ch)\n",
        "    {\n",
        "      case 0:\n",
        "        exit(0);\n",
        "      break;\n",
        "      case 1:\n",
        "        fillup(arr, n);\n",
        "      break;\n",
        "      case 2:\n",
        "        printArray(arr, n);\n",
        "      break;\n",
        "      case 3:\n",
        "        insertionSort(arr, n, 0, 0);\n",
        "      break;\n",
        "      case 4:\n",
        "        insertionSort(arr, n, 1, 0);\n",
        "      break;\n",
        "      case 5:\n",
        "        fillup(arr, n);\n",
        "        stepcount = insertionSort(arr, n, 0, 1);\n",
        "        printf(\"Steps taken to sort a random array in ascending order by insertion sort: %ld\", stepcount);\n",
        "      break;\n",
        "      case 6:\n",
        "        fillup(arr, n);\n",
        "        insertionSort(arr, n, 0, 0);\n",
        "        stepcount = insertionSort(arr, n, 0, 1);\n",
        "        printf(\"Steps taken to sort an array sorted in ascending order, in ascending order by insertion sort: %ld\", stepcount);\n",
        "      break;\n",
        "      case 7:\n",
        "        fillup(arr, n);\n",
        "        insertionSort(arr, n, 1, 0);\n",
        "        stepcount = insertionSort(arr, n, 0, 1);\n",
        "        printf(\"Steps taken to sort an array sorted in descending order, in ascending order by insertion sort: %ld\", stepcount);\n",
        "      break;\n",
        "      case 8:\n",
        "        printf(\"Value of n\\t\\tTime for Random\\t\\tTime for Ascending Data\\t\\tTime for Descending Data\\n\");\n",
        "        for(int j = 5000; j<=50000; j+=5000)\n",
        "        {\n",
        "          int sarr[j];\n",
        "          fillup(sarr, j);\n",
        "          long steprand = insertionSort(sarr, j, 0, 1);\n",
        "          long stepasc = insertionSort(sarr, j, 0, 1);\n",
        "          insertionSort(sarr, j, 1, 0);\n",
        "          long stepdesc = insertionSort(sarr, j, 0, 1);\n",
        "          printf(\"%d\\t\\t\\t%ld\\t\\t\\t%ld\\t\\t\\t%ld\\n\", j, steprand, stepasc, stepdesc);\n",
        "        }\n",
        "      break;\n",
        "      default:\n",
        "        printf(\"Wrong choice\");\n",
        "    }\n",
        "  }\n",
        "  return 0;\n",
        "}"
      ]
    },
    {
      "cell_type": "code",
      "source": [
        "%%script bash\n",
        "gcc A1.c"
      ],
      "metadata": {
        "id": "5-08fCevcBXc"
      },
      "execution_count": null,
      "outputs": []
    },
    {
      "cell_type": "code",
      "source": [
        "!./a.out"
      ],
      "metadata": {
        "colab": {
          "base_uri": "https://localhost:8080/"
        },
        "id": "vqn6x4WocUHg",
        "outputId": "7a40be1e-39d7-4f9a-cc3a-afda7868e719"
      },
      "execution_count": null,
      "outputs": [
        {
          "output_type": "stream",
          "name": "stdout",
          "text": [
            "Enter the value of n:10\n",
            "MENU\n",
            "---------\n",
            "0. Quit.\n",
            "1. Enter n Random Numbers into the Array\n",
            "2. Display the array\n",
            "3. Sort the array in Ascending order\n",
            "4. Sort the Array in Descending Order\n",
            "5. Time Complexity to sort ascending of random data\n",
            "6. Time Complexity to sort ascending of data already sorted in ascending order\n",
            "7. Time Complexity to sort ascending of data already sorted in descending order\n",
            "8. Time Complexity to sort ascending of data for all Cases (Data Ascending, Data in Descending & Random Data) in Tabular form for values n=5000 to 50000, step=5000\n",
            "\n",
            "Now enter your choice:\n",
            "8\n",
            "Value of n\t\tTime for Random\t\tTime for Ascending Data\t\tTime for Descending Data\n",
            "5000\t\t\t18921274\t\t\t4999\t\t\t37497499\n",
            "10000\t\t\t74561427\t\t\t9999\t\t\t149994999\n",
            "15000\t\t\t166587269\t\t\t14999\t\t\t337492496\n",
            "20000\t\t\t298297642\t\t\t19999\t\t\t599989999\n",
            "25000\t\t\t467781717\t\t\t24999\t\t\t937487499\n",
            "30000\t\t\t671173511\t\t\t29999\t\t\t1349984999\n",
            "35000\t\t\t919107562\t\t\t34999\t\t\t1837482499\n",
            "40000\t\t\t1200943443\t\t\t39999\t\t\t2399979999\n",
            "45000\t\t\t1515649133\t\t\t44999\t\t\t3037477499\n",
            "50000\t\t\t1871776666\t\t\t49999\t\t\t3749974999\n",
            "\n",
            "Now enter your choice:\n",
            "1\n",
            "\n",
            "Now enter your choice:\n",
            "2\n",
            "1875747240 1352782011 59065011 461016465 1543712058 279129063 1766838998 879575295 480428356 1276639745 \n",
            "\n",
            "Now enter your choice:\n",
            "4\n",
            "\n",
            "Now enter your choice:\n",
            "2\n",
            "1875747240 1766838998 1543712058 1352782011 1276639745 879575295 480428356 461016465 279129063 59065011 \n",
            "\n",
            "Now enter your choice:\n",
            "3\n",
            "\n",
            "Now enter your choice:\n",
            "2\n",
            "59065011 279129063 461016465 480428356 879575295 1276639745 1352782011 1543712058 1766838998 1875747240 \n",
            "\n",
            "Now enter your choice:\n",
            "0\n"
          ]
        }
      ]
    },
    {
      "cell_type": "markdown",
      "source": [
        "#**Problem 2**"
      ],
      "metadata": {
        "id": "vh8eIKs5xc4s"
      }
    },
    {
      "cell_type": "code",
      "source": [
        "%%writefile A2.c\n",
        "//Lab3.2 (10/08/2023)\n",
        "#include<stdlib.h>\n",
        "#include<string.h>\n",
        "#include<stdio.h>\n",
        "#include<time.h>\n",
        "void printArray(int arr[], int n)\n",
        "{\n",
        "  int i;\n",
        "  for (i = 0; i < n; i++)\n",
        "      printf(\"%d \", arr[i]);\n",
        "  printf(\"\\n\");\n",
        "  return;\n",
        "}\n",
        "double insertionSort(int arr[], int n, int order, int retstep)\n",
        "{\n",
        "  int i, key, j;\n",
        "  double steps = 0.0000000;\n",
        "  clock_t t = clock();\n",
        "  for (i = 1; i < n; i++)\n",
        "  {\n",
        "    key = arr[i];\n",
        "    j = i - 1;\n",
        "    if(order == 0)//Ascending\n",
        "    {\n",
        "      while (j >= 0 && arr[j] > key)\n",
        "      {\n",
        "        arr[j + 1] = arr[j];\n",
        "        j = j - 1;\n",
        "      }\n",
        "    }\n",
        "    else if(order == 1)//Descending\n",
        "    {\n",
        "      while (j >= 0 && arr[j] < key)\n",
        "      {\n",
        "        arr[j + 1] = arr[j];\n",
        "        j = j - 1;\n",
        "      }\n",
        "    }\n",
        "    arr[j + 1] = key;\n",
        "  }\n",
        "  t = clock() - t;\n",
        "  steps = ((double)t)/CLOCKS_PER_SEC;\n",
        "  if(retstep == 1)\n",
        "    return steps;\n",
        "  return 0.0000000;\n",
        "}\n",
        "void fillup(int arr[], int n)\n",
        "{\n",
        "  for(int i = 0; i < n; i++)\n",
        "    arr[i] = rand();\n",
        "  return;\n",
        "}\n",
        "int main()\n",
        "{\n",
        "  int n, ch;\n",
        "  double stepcount;\n",
        "  printf(\"Enter the value of n:\");\n",
        "  scanf(\"%d\", &n);\n",
        "  int arr[n];\n",
        "  memset(arr, 0, n);\n",
        "  printf(\"MENU\\n---------\\n0. Quit.\\n1. Enter n Random Numbers into the Array\\n2. Display the array\\n3. Sort the array in Ascending order\\n4. Sort the Array in Descending Order\\n\");\n",
        "  printf(\"5. Time Complexity to sort ascending of random data\\n6. Time Complexity to sort ascending of data already sorted in ascending order\\n\");\n",
        "  printf(\"7. Time Complexity to sort ascending of data already sorted in descending order\\n8. Time Complexity to sort ascending of data for all Cases (Data Ascending, Data in Descending & Random Data) in Tabular form for values n=5000 to 50000, step=5000\\n\");\n",
        "  while(1)\n",
        "  {\n",
        "    printf(\"\\nNow enter your choice:\\n\");\n",
        "    scanf(\"%d\", &ch);\n",
        "    switch(ch)\n",
        "    {\n",
        "      case 0:\n",
        "        exit(0);\n",
        "      break;\n",
        "      case 1:\n",
        "        fillup(arr, n);\n",
        "      break;\n",
        "      case 2:\n",
        "        printArray(arr, n);\n",
        "      break;\n",
        "      case 3:\n",
        "        insertionSort(arr, n, 0, 0);\n",
        "      break;\n",
        "      case 4:\n",
        "        insertionSort(arr, n, 1, 0);\n",
        "      break;\n",
        "      case 5:\n",
        "        fillup(arr, n);\n",
        "        stepcount = insertionSort(arr, n, 0, 1);\n",
        "        printf(\"Steps taken to sort a random array in ascending order by insertion sort: %f\", stepcount);\n",
        "      break;\n",
        "      case 6:\n",
        "        fillup(arr, n);\n",
        "        insertionSort(arr, n, 0, 0);\n",
        "        stepcount = insertionSort(arr, n, 0, 1);\n",
        "        printf(\"Steps taken to sort an array sorted in ascending order, in ascending order by insertion sort: %f\", stepcount);\n",
        "      break;\n",
        "      case 7:\n",
        "        fillup(arr, n);\n",
        "        insertionSort(arr, n, 1, 0);\n",
        "        stepcount = insertionSort(arr, n, 0, 1);\n",
        "        printf(\"Steps taken to sort an array sorted in descending order, in ascending order by insertion sort: %f\", stepcount);\n",
        "      break;\n",
        "      case 8:\n",
        "        printf(\"Value of n\\t\\tTime for Random\\t\\tTime for Ascending Data\\t\\tTime for Descending Data\\n\");\n",
        "        for(int j = 5000; j<=50000; j+=5000)\n",
        "        {\n",
        "          int sarr[j];\n",
        "          fillup(sarr, j);\n",
        "          double steprand = insertionSort(sarr, j, 0, 1);\n",
        "          double stepasc = insertionSort(sarr, j, 0, 1);\n",
        "          insertionSort(sarr, j, 1, 0);\n",
        "          double stepdesc = insertionSort(sarr, j, 0, 1);\n",
        "          printf(\"%d\\t\\t\\t%f\\t\\t\\t%f\\t\\t\\t%f\\n\", j, steprand, stepasc, stepdesc);\n",
        "        }\n",
        "      break;\n",
        "      default:\n",
        "        printf(\"Wrong choice\");\n",
        "    }\n",
        "  }\n",
        "  return 0;\n",
        "}"
      ],
      "metadata": {
        "colab": {
          "base_uri": "https://localhost:8080/"
        },
        "id": "5DraaoE6xgAE",
        "outputId": "4acd0ba2-50e0-4e6b-c3b6-b75ca39d756b"
      },
      "execution_count": null,
      "outputs": [
        {
          "output_type": "stream",
          "name": "stdout",
          "text": [
            "Overwriting A2.c\n"
          ]
        }
      ]
    },
    {
      "cell_type": "code",
      "source": [
        "%%script bash\n",
        "gcc A2.c"
      ],
      "metadata": {
        "id": "rl7XumOExg0R"
      },
      "execution_count": null,
      "outputs": []
    },
    {
      "cell_type": "code",
      "source": [
        "!./a.out"
      ],
      "metadata": {
        "colab": {
          "base_uri": "https://localhost:8080/"
        },
        "id": "iU8owIx9xgSl",
        "outputId": "fbf135c8-10f4-4d09-ef57-99907baf7c8a"
      },
      "execution_count": null,
      "outputs": [
        {
          "output_type": "stream",
          "name": "stdout",
          "text": [
            "Enter the value of n:10\n",
            "MENU\n",
            "---------\n",
            "0. Quit.\n",
            "1. Enter n Random Numbers into the Array\n",
            "2. Display the array\n",
            "3. Sort the array in Ascending order\n",
            "4. Sort the Array in Descending Order\n",
            "5. Time Complexity to sort ascending of random data\n",
            "6. Time Complexity to sort ascending of data already sorted in ascending order\n",
            "7. Time Complexity to sort ascending of data already sorted in descending order\n",
            "8. Time Complexity to sort ascending of data for all Cases (Data Ascending, Data in Descending & Random Data) in Tabular form for values n=5000 to 50000, step=5000\n",
            "\n",
            "Now enter your choice:\n",
            "8\n",
            "Value of n\t\tTime for Random\t\tTime for Ascending Data\t\tTime for Descending Data\n",
            "5000\t\t\t0.021059\t\t\t0.000022\t\t\t0.041498\n",
            "10000\t\t\t0.084201\t\t\t0.000043\t\t\t0.175590\n",
            "15000\t\t\t0.182141\t\t\t0.000064\t\t\t0.387101\n",
            "20000\t\t\t0.338906\t\t\t0.000084\t\t\t0.686825\n",
            "25000\t\t\t0.529812\t\t\t0.000106\t\t\t1.044247\n",
            "30000\t\t\t0.757411\t\t\t0.000127\t\t\t1.524497\n",
            "35000\t\t\t1.803144\t\t\t0.000299\t\t\t2.064900\n",
            "40000\t\t\t1.341348\t\t\t0.000208\t\t\t2.931977\n",
            "45000\t\t\t2.839957\t\t\t0.000189\t\t\t3.400277\n",
            "50000\t\t\t2.104295\t\t\t0.000212\t\t\t4.187096\n",
            "\n",
            "Now enter your choice:\n",
            "1\n",
            "\n",
            "Now enter your choice:\n",
            "7\n",
            "Steps taken to sort an array sorted in descending order, in ascending order by insertion sort: 0.000001\n",
            "Now enter your choice:\n",
            "6\n",
            "Steps taken to sort an array sorted in ascending order, in ascending order by insertion sort: 0.000001\n",
            "Now enter your choice:\n",
            "0\n"
          ]
        }
      ]
    },
    {
      "cell_type": "markdown",
      "source": [
        "#**Problem 3**"
      ],
      "metadata": {
        "id": "jw8TG4Zz5Y7d"
      }
    },
    {
      "cell_type": "code",
      "source": [
        "%%writefile A3.c\n",
        "//Lab3.3 (10/08/2023)\n",
        "#include<math.h>\n",
        "#include<stdio.h>\n",
        "int main()\n",
        "{\n",
        "  int m, n;\n",
        "  printf(\"Enter m:\"); scanf(\"%d\", &m);\n",
        "  printf(\"Enter n:\"); scanf(\"%d\", &n);\n",
        "  double A[m][n];\n",
        "\n",
        "  double rowSum[m];\n",
        "  double colSum[n];\n",
        "\n",
        "  printf(\"\\nEnter the matrix of dimensions %d x %d:\\n\", m, n);\n",
        "  for(int i=0;i<m;i++)\n",
        "  {\n",
        "    for(int j=0;j<n;j++)\n",
        "    {\n",
        "      scanf(\"%lf\", &A[i][j]);\n",
        "      rowSum[i]+=floor(A[i][j]);\n",
        "      colSum[j]+=floor(A[i][j]);\n",
        "    }\n",
        "  }\n",
        "  for(int i=m-1;i>=0;i--)\n",
        "  {\n",
        "    for(int j=n-1;j>=0;j--)\n",
        "    {\n",
        "      double floorVal = floor(A[i][j]);\n",
        "      double ceilVal = ceil(A[i][j]);\n",
        "\n",
        "      double fractionalPart = A[i][j] - floorVal;\n",
        "      if (colSum[j] < ceilVal)\n",
        "      {\n",
        "        A[i][j] = floorVal;\n",
        "        rowSum[i] += ceilVal - floorVal;\n",
        "      }\n",
        "      else if (rowSum[i] < ceilVal)\n",
        "      {\n",
        "        A[i][j] = ceilVal;\n",
        "        colSum[j] += ceilVal - floorVal;\n",
        "      }\n",
        "      else\n",
        "      {\n",
        "        if (fractionalPart < 0.5)\n",
        "        {\n",
        "          A[i][j] = floorVal;\n",
        "          rowSum[i] += ceilVal - floorVal;\n",
        "        }\n",
        "        else\n",
        "        {\n",
        "          A[i][j] = ceilVal;\n",
        "          colSum[j] += ceilVal - floorVal;\n",
        "        }\n",
        "      }\n",
        "    }\n",
        "  }\n",
        "  printf(\"\\nFinal rounded-off matrix:\\n\");\n",
        "  for (int i = 0; i < m; i++)\n",
        "  {\n",
        "    for (int j = 0; j < n; j++)\n",
        "    {\n",
        "      printf(\"%d\\t\", (int)A[i][j]);\n",
        "    }\n",
        "    printf(\"\\n\");\n",
        "  }\n",
        "  return 0;\n",
        "}"
      ],
      "metadata": {
        "id": "YgoPWgHv5a77",
        "colab": {
          "base_uri": "https://localhost:8080/"
        },
        "outputId": "310babf9-aca2-4a21-db46-5b15cdea48d7"
      },
      "execution_count": null,
      "outputs": [
        {
          "output_type": "stream",
          "name": "stdout",
          "text": [
            "Overwriting A3.c\n"
          ]
        }
      ]
    },
    {
      "cell_type": "code",
      "source": [
        "%%script bash\n",
        "gcc A3.c -lm"
      ],
      "metadata": {
        "id": "TCOTDYCe5bZ8"
      },
      "execution_count": null,
      "outputs": []
    },
    {
      "cell_type": "code",
      "source": [
        "!./a.out"
      ],
      "metadata": {
        "id": "zxdDFrkj5bOM",
        "colab": {
          "base_uri": "https://localhost:8080/"
        },
        "outputId": "01014fbc-a2c5-4614-963d-c70c65d220c6"
      },
      "execution_count": null,
      "outputs": [
        {
          "output_type": "stream",
          "name": "stdout",
          "text": [
            "Enter m:4\n",
            "Enter n:4\n",
            "\n",
            "Enter the matrix of dimensions 4 x 4:\n",
            "10.9 2.5 1.3 9.3 3.8 9.2 2.2 11.8 7.9 5.2 7.3 0.6 3.4 13.1 1.2 6.3\n",
            "\n",
            "Final rounded-off matrix:\n",
            "11\t3\t1\t9\t\n",
            "4\t9\t2\t12\t\n",
            "8\t5\t7\t1\t\n",
            "3\t13\t1\t6\t\n"
          ]
        }
      ]
    }
  ]
}