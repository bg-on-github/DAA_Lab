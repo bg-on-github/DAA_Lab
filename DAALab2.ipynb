{
  "nbformat": 4,
  "nbformat_minor": 0,
  "metadata": {
    "colab": {
      "provenance": []
    },
    "kernelspec": {
      "name": "python3",
      "display_name": "Python 3"
    },
    "language_info": {
      "name": "python"
    }
  },
  "cells": [
    {
      "cell_type": "markdown",
      "source": [
        "# **Problem 1**"
      ],
      "metadata": {
        "id": "W3X6DW7SSZNX"
      }
    },
    {
      "cell_type": "code",
      "execution_count": null,
      "metadata": {
        "colab": {
          "base_uri": "https://localhost:8080/"
        },
        "id": "EoYgMtx6ljLA",
        "outputId": "60e4fc73-697b-4939-f835-946c71c95b13"
      },
      "outputs": [
        {
          "output_type": "stream",
          "name": "stdout",
          "text": [
            "Writing A1.c\n"
          ]
        }
      ],
      "source": [
        "%%writefile A1.c\n",
        "//Lab2.1 (03/08/2023)\n",
        "#include<math.h>\n",
        "#include<stdlib.h>\n",
        "#include<stdio.h>\n",
        "int divisibility(int n)\n",
        "{\n",
        "  int stepcounter = 1;\n",
        "  for (int i = 2; i < n; i++)\n",
        "  {\n",
        "    if(n%i == 0)\n",
        "    {\n",
        "      printf(\"%d\\n\", stepcounter);\n",
        "      return stepcounter;\n",
        "    }\n",
        "    stepcounter++;\n",
        "  }\n",
        "  printf(\"%d\\n\", stepcounter);\n",
        "  return stepcounter;\n",
        "}\n",
        "\n",
        "int power(int x, unsigned int y, int p, int * stepcounter)\n",
        "{\n",
        "    int res = 1; stepcounter++;\n",
        "    x = x % p; stepcounter++;\n",
        "    while (y > 0)\n",
        "    {\n",
        "        if (y & 1)\n",
        "        {\n",
        "            stepcounter++;\n",
        "            res = (res*x) % p;\n",
        "        }\n",
        "        y = y>>1; stepcounter++;\n",
        "        x = (x*x) % p; stepcounter++;\n",
        "    }\n",
        "    return res;\n",
        "}\n",
        "int millerTest(int d, int n, int * stepcounter)\n",
        "{\n",
        "    int a = 2 + rand() % (n - 4); ++*stepcounter;\n",
        "\n",
        "    int x = power(a, d, n, &stepcounter); ++*stepcounter;\n",
        "\n",
        "    if (x == 1  || x == n-1)\n",
        "    {\n",
        "       ++*stepcounter;\n",
        "       return 1;\n",
        "    }\n",
        "    while (d != n-1)\n",
        "    {\n",
        "        x = (x * x) % n;\n",
        "        d *= 2;\n",
        "        ++*stepcounter;\n",
        "\n",
        "        if (x == 1)      return 0;\n",
        "        ++*stepcounter;\n",
        "        if (x == n-1)    return 1;\n",
        "        ++*stepcounter;\n",
        "    }\n",
        "    return 0;\n",
        "}\n",
        "int millerprimer(int n, int k)\n",
        "{\n",
        "    int stepcounter = 1;\n",
        "    if (n <= 1 || n == 4)\n",
        "    {\n",
        "        printf(\"%d\\n\", stepcounter);\n",
        "        return 0;\n",
        "    }\n",
        "    stepcounter++;\n",
        "    if (n <= 3)\n",
        "    {\n",
        "        printf(\"%d\\n\", stepcounter);\n",
        "        return 1;\n",
        "    }\n",
        "    stepcounter++;\n",
        "    int d = n - 1;\n",
        "    stepcounter++;\n",
        "    while (d % 2 == 0)\n",
        "    {\n",
        "        d /= 2;\n",
        "        stepcounter++;\n",
        "    }\n",
        "    for (int i = 0; i < k; i++)\n",
        "    {\n",
        "         stepcounter++;\n",
        "         if (millerTest(d, n, &stepcounter)==0)\n",
        "         {\n",
        "              stepcounter++;\n",
        "              printf(\"%d\\n\", stepcounter);\n",
        "              return 0;\n",
        "         }\n",
        "    }\n",
        "    printf(\"%d\\n\", stepcounter);\n",
        "    return 1;\n",
        "}\n",
        "\n",
        "int gcd(int a, int b, int * stepcounter)\n",
        "{\n",
        "    if(a < b)\n",
        "    {\n",
        "        ++*stepcounter;\n",
        "        return gcd(b, a, &stepcounter);\n",
        "    }\n",
        "    else if(a%b == 0)\n",
        "    {\n",
        "        ++*stepcounter;\n",
        "        return b;\n",
        "    }\n",
        "    else\n",
        "    {\n",
        "        ++*stepcounter;\n",
        "        return gcd(b, a%b, &stepcounter);\n",
        "    }\n",
        "}\n",
        "int fermatprimer(unsigned int n, int k)\n",
        "{\n",
        "   int stepcounter = 1;\n",
        "   if (n <= 1 || n == 4)\n",
        "   {\n",
        "      stepcounter++;\n",
        "      printf(\"%d\\n\", stepcounter);\n",
        "      return 0;\n",
        "   }\n",
        "   if (n <= 3)\n",
        "   {\n",
        "      stepcounter++;\n",
        "      printf(\"%d\\n\", stepcounter);\n",
        "      return 1;\n",
        "   }\n",
        "   while (k>0)\n",
        "   {\n",
        "       int a = 2 + rand()%(n-4); stepcounter++;\n",
        "       if (gcd(n, a, &stepcounter) != 1)\n",
        "       {\n",
        "          stepcounter++;\n",
        "          printf(\"%d\\n\", stepcounter);\n",
        "          return 0;\n",
        "       }\n",
        "       if (power(a, n-1, n, &stepcounter) != 1)\n",
        "       {\n",
        "          stepcounter++;\n",
        "          printf(\"%d\\n\", stepcounter);\n",
        "          return 0;\n",
        "       }\n",
        "       k--;\n",
        "    }\n",
        "    printf(\"%d\\n\", stepcounter);\n",
        "    return 1;\n",
        "}\n",
        "\n",
        "int main()\n",
        "{\n",
        "  int n = 0;\n",
        "  printf(\"Enter number- \");\n",
        "  scanf(\"%d\", &n);\n",
        "  //Algorithm 1\n",
        "  printf(\"Steps in simple divisibility method: \");\n",
        "  int m1 = divisibility(n);\n",
        "  if(m1==n-1) printf(\"Simple divisibility method says prime\\n\\n\");\n",
        "  else printf(\"Simple divisibility method says not prime\\n\\n\");\n",
        "\n",
        "  //Algorithm 2\n",
        "  printf(\"Steps in Miller-Rabin method: \");\n",
        "  if (millerprimer(n, 10)==1) printf(\"Miller-Rabin method says prime\\n\\n\");\n",
        "  else printf(\"Miller-Rabin method says not prime\\n\\n\");\n",
        "\n",
        "  //Algorithm 3\n",
        "  printf(\"Steps in Fermat Algorithm: \");\n",
        "  if (fermatprimer(n, 10)==1) printf(\"Fermat Algorithm says prime\");\n",
        "  else printf(\"Fermat Algorithm says not prime\");\n",
        "\n",
        "  return 0;\n",
        "}"
      ]
    },
    {
      "cell_type": "code",
      "source": [
        "%%script bash\n",
        "gcc A1.c -lm"
      ],
      "metadata": {
        "id": "6UMBS2-CorIg"
      },
      "execution_count": null,
      "outputs": []
    },
    {
      "cell_type": "code",
      "source": [
        "!./a.out"
      ],
      "metadata": {
        "colab": {
          "base_uri": "https://localhost:8080/"
        },
        "id": "_H7H3QQcJPhv",
        "outputId": "2daf511f-b9ff-436b-9043-5ba5398dcbae"
      },
      "execution_count": null,
      "outputs": [
        {
          "output_type": "stream",
          "name": "stdout",
          "text": [
            "Enter number- 21052579\n",
            "Steps in simple divisibility method: 16\n",
            "Simple divisibility method says not prime\n",
            "\n",
            "Steps in Miller-Rabin method: 12\n",
            "Miller-Rabin method says not prime\n",
            "\n",
            "Steps in Fermat Algorithm: 4\n",
            "Fermat Algorithm says not prime"
          ]
        }
      ]
    },
    {
      "cell_type": "markdown",
      "source": [
        "#**Problem 2**"
      ],
      "metadata": {
        "id": "yb72CFeiSeQg"
      }
    },
    {
      "cell_type": "code",
      "source": [
        "%%writefile A2.c\n",
        "//Lab2.2 (03/08/2023)\n",
        "#include<string.h>\n",
        "#include<stdbool.h>\n",
        "#include<stdio.h>\n",
        "int euclidgcd(int a, int b, int * stepcounter)\n",
        "{\n",
        "    int c;\n",
        "    while (b != 0)\n",
        "    {\n",
        "        ++*stepcounter;\n",
        "        c = a % b;\n",
        "        ++*stepcounter;\n",
        "        a = b;\n",
        "        ++*stepcounter;\n",
        "        b = c;\n",
        "    }\n",
        "    return a;\n",
        "}\n",
        "int consecgcd(int a, int b, int  * stepcounter)\n",
        "{\n",
        "    int t = (a>b)?b:a;\n",
        "    ++*stepcounter;\n",
        "    while(t>0)\n",
        "    {\n",
        "        ++*stepcounter;\n",
        "        if((a % t == 0) && (b % t == 0))\n",
        "        {\n",
        "            ++*stepcounter;\n",
        "            return t;\n",
        "        }\n",
        "        ++*stepcounter;\n",
        "        t--;\n",
        "    }\n",
        "}\n",
        "\n",
        "int middleschoolgcd(int a, int b)\n",
        "{\n",
        "    int gcd = 1;\n",
        "    int count = 0;\n",
        "\n",
        "    int smaller = (a < b) ? a : b;\n",
        "\n",
        "    bool prime[smaller + 1];\n",
        "    memset(prime, true, sizeof(prime));\n",
        "\n",
        "    for (int p = 2; p * p <= smaller; p++)\n",
        "    {\n",
        "      if (prime[p] == true)\n",
        "      {\n",
        "        for (int i = p * p; i <= smaller; i += p)\n",
        "        {\n",
        "          count++;\n",
        "          prime[i] = false;\n",
        "        }\n",
        "      }\n",
        "    }\n",
        "\n",
        "    for (int i = 2; i <= smaller; i++)\n",
        "    {\n",
        "        if (prime[i])\n",
        "        {\n",
        "            while (a % i == 0 && b % i == 0)\n",
        "            {\n",
        "                count++;\n",
        "                gcd *= i;\n",
        "                a /= i;\n",
        "                b /= i;\n",
        "            }\n",
        "        }\n",
        "    }\n",
        "\n",
        "    printf(\"%d\\n\",count);\n",
        "    return gcd;\n",
        "}\n",
        "\n",
        "int main()\n",
        "{\n",
        "\n",
        "  int a, b;\n",
        "\n",
        "  printf(\"Enter two numbers-\\n\");\n",
        "  scanf(\"%d %d\", &a, &b);\n",
        "  int stepcounter = 1;\n",
        "  int gcd[3];\n",
        "\n",
        "  gcd[0] = euclidgcd(a, b, &stepcounter);\n",
        "  printf(\"%d\\t\", stepcounter);\n",
        "\n",
        "  stepcounter = 0;\n",
        "  gcd[1] = consecgcd(a, b, &stepcounter);\n",
        "  printf(\"%d\\t\", stepcounter);\n",
        "\n",
        "  stepcounter = 0;\n",
        "  gcd[2] = middleschoolgcd(a, b);\n",
        "\n",
        "  printf(\"\\nThe GCD of %d and %d is %d by Euclid's algorithm.\\n\", a, b, gcd[0]);\n",
        "  printf(\"The GCD of %d and %d is %d by Consecutive integer checking algorithm.\\n\", a, b, gcd[1]);\n",
        "  printf(\"The GCD of %d and %d is %d by Middle school procedure.\", a, b, gcd[2]);\n",
        "\n",
        "  return 0;\n",
        "}"
      ],
      "metadata": {
        "colab": {
          "base_uri": "https://localhost:8080/"
        },
        "id": "CKVThGpxSgRS",
        "outputId": "b044c409-ab6d-4f6a-9b2c-cb513c62038a"
      },
      "execution_count": null,
      "outputs": [
        {
          "output_type": "stream",
          "name": "stdout",
          "text": [
            "Writing A2.c\n"
          ]
        }
      ]
    },
    {
      "cell_type": "code",
      "source": [
        "%%script bash\n",
        "gcc A2.c"
      ],
      "metadata": {
        "id": "IAytXfIxSjQL"
      },
      "execution_count": null,
      "outputs": []
    },
    {
      "cell_type": "code",
      "source": [
        "!./a.out"
      ],
      "metadata": {
        "colab": {
          "base_uri": "https://localhost:8080/"
        },
        "id": "dwvBsjLiSkrD",
        "outputId": "4dc61099-a238-46fa-e006-d166e751170a"
      },
      "execution_count": null,
      "outputs": [
        {
          "output_type": "stream",
          "name": "stdout",
          "text": [
            "Enter two numbers-\n",
            "2105 2579\n",
            "34\t4211\t3177\n",
            "\n",
            "The GCD of 2105 and 2579 is 1 by Euclid's algorithm.\n",
            "The GCD of 2105 and 2579 is 1 by Consecutive integer checking algorithm.\n",
            "The GCD of 2105 and 2579 is 1 by Middle school procedure."
          ]
        }
      ]
    }
  ]
}